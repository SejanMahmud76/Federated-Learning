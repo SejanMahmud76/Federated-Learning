{
 "cells": [
  {
   "cell_type": "code",
   "execution_count": 39,
   "id": "83c6e353-d321-4f86-8f3a-bcdf2cb9f100",
   "metadata": {},
   "outputs": [],
   "source": [
    "import torch"
   ]
  },
  {
   "cell_type": "code",
   "execution_count": 40,
   "id": "d5eaa448-d45d-4240-ae22-5c78f46bd678",
   "metadata": {},
   "outputs": [],
   "source": [
    "def sigmoid(x):\n",
    "    return 1/(1+torch.exp(-x))"
   ]
  },
  {
   "cell_type": "markdown",
   "id": "20f03fb0-6645-4f11-8699-45acf014c4f2",
   "metadata": {},
   "source": [
    "# Take input"
   ]
  },
  {
   "cell_type": "code",
   "execution_count": 41,
   "id": "2cde593d-c85d-4255-91d8-a9cfc917312f",
   "metadata": {},
   "outputs": [],
   "source": [
    "input_img = torch.randn((1,3))"
   ]
  },
  {
   "cell_type": "code",
   "execution_count": 42,
   "id": "1db12087-57a5-4185-8f8c-49ae7a187efd",
   "metadata": {},
   "outputs": [
    {
     "data": {
      "text/plain": [
       "tensor([[-0.5319, -0.4094, -0.9214]])"
      ]
     },
     "execution_count": 42,
     "metadata": {},
     "output_type": "execute_result"
    }
   ],
   "source": [
    "input_img"
   ]
  },
  {
   "cell_type": "markdown",
   "id": "222faac0-6744-424f-8933-d6fa470d1d8f",
   "metadata": {},
   "source": [
    "# Define number of  input,\n",
    "# neurons\n",
    "# outputs"
   ]
  },
  {
   "cell_type": "code",
   "execution_count": 43,
   "id": "e2706678-99b2-42a5-b32a-10698364fd74",
   "metadata": {},
   "outputs": [],
   "source": [
    "n_inputs = input_img.shape"
   ]
  },
  {
   "cell_type": "code",
   "execution_count": 44,
   "id": "7fa1213b-30cb-48d0-a661-28dda636d6dc",
   "metadata": {},
   "outputs": [
    {
     "data": {
      "text/plain": [
       "torch.Size([1, 3])"
      ]
     },
     "execution_count": 44,
     "metadata": {},
     "output_type": "execute_result"
    }
   ],
   "source": [
    "n_inputs"
   ]
  },
  {
   "cell_type": "markdown",
   "id": "cf9a3907-df29-4911-9694-34a3b3328fcd",
   "metadata": {},
   "source": [
    "# as number of column mention the input"
   ]
  },
  {
   "cell_type": "code",
   "execution_count": 45,
   "id": "08bbd43c-f77d-4916-a9ef-e7d0a0632f58",
   "metadata": {},
   "outputs": [],
   "source": [
    "n_inputs = input_img.shape[1]"
   ]
  },
  {
   "cell_type": "code",
   "execution_count": 46,
   "id": "744c95eb-1f9a-468c-a001-5f067f2d98da",
   "metadata": {},
   "outputs": [
    {
     "data": {
      "text/plain": [
       "3"
      ]
     },
     "execution_count": 46,
     "metadata": {},
     "output_type": "execute_result"
    }
   ],
   "source": [
    "n_inputs"
   ]
  },
  {
   "cell_type": "code",
   "execution_count": 47,
   "id": "51db5bcd-bf1c-4c4f-8b92-efec758e4926",
   "metadata": {},
   "outputs": [],
   "source": [
    "n_neurons = 2"
   ]
  },
  {
   "cell_type": "code",
   "execution_count": 48,
   "id": "3a84a262-ed99-43cd-9aaf-be529318c575",
   "metadata": {},
   "outputs": [],
   "source": [
    "n_outputs = 1"
   ]
  },
  {
   "cell_type": "markdown",
   "id": "9436499d-166a-4c90-bc44-27fcbf3e5031",
   "metadata": {},
   "source": [
    "# Take input of weights"
   ]
  },
  {
   "cell_type": "code",
   "execution_count": 36,
   "id": "4b0df471-30cc-4214-b381-5003444030f2",
   "metadata": {},
   "outputs": [],
   "source": [
    "w1 = torch.randn((n_inputs,n_neurons))"
   ]
  },
  {
   "cell_type": "code",
   "execution_count": 37,
   "id": "7dcc9d8d-e5ed-4eaa-a62f-00033aae2cf8",
   "metadata": {},
   "outputs": [
    {
     "data": {
      "text/plain": [
       "tensor([[ 2.7316,  0.6150],\n",
       "        [ 0.1208, -0.2606],\n",
       "        [-0.8714,  1.0931]])"
      ]
     },
     "execution_count": 37,
     "metadata": {},
     "output_type": "execute_result"
    }
   ],
   "source": [
    "w1"
   ]
  },
  {
   "cell_type": "code",
   "execution_count": 49,
   "id": "825f7a24-c4cb-41b3-b09f-7b767b7b9c9c",
   "metadata": {},
   "outputs": [],
   "source": [
    "w2 = torch.randn((n_neurons,n_outputs))"
   ]
  },
  {
   "cell_type": "code",
   "execution_count": 52,
   "id": "4efc90ad-d71c-4dfe-8891-b0e2a89cb832",
   "metadata": {},
   "outputs": [
    {
     "data": {
      "text/plain": [
       "tensor([[-0.2620],\n",
       "        [-1.8767]])"
      ]
     },
     "execution_count": 52,
     "metadata": {},
     "output_type": "execute_result"
    }
   ],
   "source": [
    "w2"
   ]
  },
  {
   "cell_type": "markdown",
   "id": "f341a4e5-2cc4-4aa4-b95e-0a400b3ed22c",
   "metadata": {},
   "source": [
    "# Bias"
   ]
  },
  {
   "cell_type": "code",
   "execution_count": 50,
   "id": "d3ae4115-8a39-414d-b1d0-69d3b58632f1",
   "metadata": {},
   "outputs": [],
   "source": [
    "B1 = torch.randn((1,n_neurons))"
   ]
  },
  {
   "cell_type": "code",
   "execution_count": 53,
   "id": "26c01e9b-6215-4f73-bcec-ff9bf74f6dc8",
   "metadata": {},
   "outputs": [
    {
     "data": {
      "text/plain": [
       "tensor([[0.4568, 2.4811]])"
      ]
     },
     "execution_count": 53,
     "metadata": {},
     "output_type": "execute_result"
    }
   ],
   "source": [
    "B1"
   ]
  },
  {
   "cell_type": "code",
   "execution_count": 54,
   "id": "724aa718-5f74-47e6-8f47-b3ebf4bc17aa",
   "metadata": {},
   "outputs": [],
   "source": [
    "B2 = torch.randn((1,n_outputs))"
   ]
  },
  {
   "cell_type": "code",
   "execution_count": 55,
   "id": "22cb1bce-54dd-48b0-91c0-d4b3d5cd149d",
   "metadata": {},
   "outputs": [
    {
     "data": {
      "text/plain": [
       "tensor([[0.1950]])"
      ]
     },
     "execution_count": 55,
     "metadata": {},
     "output_type": "execute_result"
    }
   ],
   "source": [
    "B2"
   ]
  },
  {
   "cell_type": "markdown",
   "id": "df492dcc-e9ca-4673-97fc-c3b480474c4c",
   "metadata": {},
   "source": [
    "# finding h1 and output"
   ]
  },
  {
   "cell_type": "code",
   "execution_count": 56,
   "id": "58864747-d79e-4789-8252-cc90fcac79e5",
   "metadata": {},
   "outputs": [],
   "source": [
    "h1 = sigmoid(torch.mm(input_img,w1)+B1)"
   ]
  },
  {
   "cell_type": "code",
   "execution_count": 57,
   "id": "bddb5723-7bb2-44a6-9d42-d1c83cf37a4f",
   "metadata": {},
   "outputs": [
    {
     "data": {
      "text/plain": [
       "tensor([[0.4397, 0.7779]])"
      ]
     },
     "execution_count": 57,
     "metadata": {},
     "output_type": "execute_result"
    }
   ],
   "source": [
    "h1"
   ]
  },
  {
   "cell_type": "markdown",
   "id": "291b82c3-6339-4f14-963f-7c75ce724111",
   "metadata": {},
   "source": [
    "# finding output "
   ]
  },
  {
   "cell_type": "code",
   "execution_count": 59,
   "id": "ec26e99b-6f73-4976-a290-ef2ee7014115",
   "metadata": {},
   "outputs": [],
   "source": [
    "output = sigmoid(torch.mm(h1,w2)+B2)"
   ]
  },
  {
   "cell_type": "code",
   "execution_count": 60,
   "id": "0a91d73b-f1b1-4cfd-93e9-a545a063ee25",
   "metadata": {},
   "outputs": [
    {
     "data": {
      "text/plain": [
       "tensor([[0.2010]])"
      ]
     },
     "execution_count": 60,
     "metadata": {},
     "output_type": "execute_result"
    }
   ],
   "source": [
    "output"
   ]
  },
  {
   "cell_type": "code",
   "execution_count": null,
   "id": "36d14005-6c0b-4d12-a638-82af63890480",
   "metadata": {},
   "outputs": [],
   "source": []
  }
 ],
 "metadata": {
  "kernelspec": {
   "display_name": "Python 3 (ipykernel)",
   "language": "python",
   "name": "python3"
  },
  "language_info": {
   "codemirror_mode": {
    "name": "ipython",
    "version": 3
   },
   "file_extension": ".py",
   "mimetype": "text/x-python",
   "name": "python",
   "nbconvert_exporter": "python",
   "pygments_lexer": "ipython3",
   "version": "3.10.13"
  }
 },
 "nbformat": 4,
 "nbformat_minor": 5
}
