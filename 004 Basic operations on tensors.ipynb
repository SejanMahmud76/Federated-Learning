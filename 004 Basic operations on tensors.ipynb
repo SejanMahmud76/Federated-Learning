{
 "cells": [
  {
   "cell_type": "code",
   "execution_count": 3,
   "id": "06f2ac94-b2bc-4041-9818-a1b0b9090716",
   "metadata": {},
   "outputs": [],
   "source": [
    "import torch"
   ]
  },
  {
   "cell_type": "code",
   "execution_count": 4,
   "id": "fc79d5a3-2fa7-4fec-bbed-5b1151ec01bb",
   "metadata": {},
   "outputs": [],
   "source": [
    "x=torch.Tensor([1,2,3])"
   ]
  },
  {
   "cell_type": "code",
   "execution_count": 5,
   "id": "7602584e-f8d0-4bfd-8249-3248374681ec",
   "metadata": {},
   "outputs": [
    {
     "data": {
      "text/plain": [
       "tensor([1., 2., 3.])"
      ]
     },
     "execution_count": 5,
     "metadata": {},
     "output_type": "execute_result"
    }
   ],
   "source": [
    "x"
   ]
  },
  {
   "cell_type": "code",
   "execution_count": 6,
   "id": "3468b4c5-554c-40c1-8355-184c9e40ddec",
   "metadata": {},
   "outputs": [
    {
     "data": {
      "text/plain": [
       "tensor(3.)"
      ]
     },
     "execution_count": 6,
     "metadata": {},
     "output_type": "execute_result"
    }
   ],
   "source": [
    "x[2]"
   ]
  },
  {
   "cell_type": "code",
   "execution_count": 7,
   "id": "862f3b6c-d475-4eb9-8571-c54a870102e0",
   "metadata": {},
   "outputs": [
    {
     "data": {
      "text/plain": [
       "torch.Size([3])"
      ]
     },
     "execution_count": 7,
     "metadata": {},
     "output_type": "execute_result"
    }
   ],
   "source": [
    "x.shape\n"
   ]
  },
  {
   "cell_type": "code",
   "execution_count": 8,
   "id": "5b5bd9d9-7ab9-48a9-adbd-8e242649f460",
   "metadata": {},
   "outputs": [
    {
     "data": {
      "text/plain": [
       "tensor([5., 6., 7.])"
      ]
     },
     "execution_count": 8,
     "metadata": {},
     "output_type": "execute_result"
    }
   ],
   "source": [
    "x+torch.tensor([4,4,4])"
   ]
  },
  {
   "cell_type": "code",
   "execution_count": 9,
   "id": "5700d76f-c4d5-471f-8e58-17be3b67bf42",
   "metadata": {},
   "outputs": [
    {
     "data": {
      "text/plain": [
       "tensor([ 4.,  8., 12.])"
      ]
     },
     "execution_count": 9,
     "metadata": {},
     "output_type": "execute_result"
    }
   ],
   "source": [
    "x*torch.tensor([4,4,4])"
   ]
  },
  {
   "cell_type": "code",
   "execution_count": 10,
   "id": "ea9756c3-d361-4cb7-b51c-9edd47e62a9d",
   "metadata": {},
   "outputs": [
    {
     "data": {
      "text/plain": [
       "tensor([6., 7., 8.])"
      ]
     },
     "execution_count": 10,
     "metadata": {},
     "output_type": "execute_result"
    }
   ],
   "source": [
    "x+5\n"
   ]
  },
  {
   "cell_type": "code",
   "execution_count": 12,
   "id": "7cdfc028-8c1f-4921-ab13-05ebb4890ee2",
   "metadata": {},
   "outputs": [],
   "source": [
    "x=torch.Tensor([[1,2,3],[4,5,6]])"
   ]
  },
  {
   "cell_type": "code",
   "execution_count": 13,
   "id": "cc62571e-7788-4f29-9028-b3e3cca608de",
   "metadata": {},
   "outputs": [
    {
     "data": {
      "text/plain": [
       "tensor([[1., 2., 3.],\n",
       "        [4., 5., 6.]])"
      ]
     },
     "execution_count": 13,
     "metadata": {},
     "output_type": "execute_result"
    }
   ],
   "source": [
    "x"
   ]
  },
  {
   "cell_type": "code",
   "execution_count": 14,
   "id": "6fd15d8a-1181-4df7-9552-56893d27b889",
   "metadata": {},
   "outputs": [
    {
     "data": {
      "text/plain": [
       "tensor([[ 6.,  7.,  8.],\n",
       "        [ 9., 10., 11.]])"
      ]
     },
     "execution_count": 14,
     "metadata": {},
     "output_type": "execute_result"
    }
   ],
   "source": [
    "x+5"
   ]
  },
  {
   "cell_type": "code",
   "execution_count": 15,
   "id": "13ad886d-e9a7-4637-b181-79e8b027feb2",
   "metadata": {},
   "outputs": [],
   "source": [
    "x=torch.randn((1,5))"
   ]
  },
  {
   "cell_type": "code",
   "execution_count": 16,
   "id": "57e59a8a-9cf7-4f75-a433-34d36e028e66",
   "metadata": {},
   "outputs": [
    {
     "data": {
      "text/plain": [
       "tensor([[ 1.3592, -1.5158,  1.1663, -0.8781, -1.7142]])"
      ]
     },
     "execution_count": 16,
     "metadata": {},
     "output_type": "execute_result"
    }
   ],
   "source": [
    "x"
   ]
  },
  {
   "cell_type": "code",
   "execution_count": 17,
   "id": "b71ce32d-aaaa-49c4-86e1-869f3fbf415e",
   "metadata": {},
   "outputs": [],
   "source": [
    "x=torch.randn((2,3))"
   ]
  },
  {
   "cell_type": "code",
   "execution_count": 18,
   "id": "20df853b-944b-4540-9a18-562dabbd9683",
   "metadata": {},
   "outputs": [
    {
     "data": {
      "text/plain": [
       "tensor([[-0.2794,  1.4907,  0.1861],\n",
       "        [ 0.2490,  1.0236,  1.8750]])"
      ]
     },
     "execution_count": 18,
     "metadata": {},
     "output_type": "execute_result"
    }
   ],
   "source": [
    "x"
   ]
  },
  {
   "cell_type": "code",
   "execution_count": null,
   "id": "8587cbfe-ad89-4ad5-a6f3-761543a7c503",
   "metadata": {},
   "outputs": [],
   "source": []
  }
 ],
 "metadata": {
  "kernelspec": {
   "display_name": "Python 3 (ipykernel)",
   "language": "python",
   "name": "python3"
  },
  "language_info": {
   "codemirror_mode": {
    "name": "ipython",
    "version": 3
   },
   "file_extension": ".py",
   "mimetype": "text/x-python",
   "name": "python",
   "nbconvert_exporter": "python",
   "pygments_lexer": "ipython3",
   "version": "3.10.13"
  }
 },
 "nbformat": 4,
 "nbformat_minor": 5
}
